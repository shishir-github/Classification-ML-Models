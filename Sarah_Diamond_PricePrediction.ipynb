{
  "cells": [
    {
      "cell_type": "markdown",
      "metadata": {
        "id": "2Yt2vkOCqvl7"
      },
      "source": [
        "In this workbook,\n",
        "I have build regression models using DT, LR and xgboost \n",
        "\n",
        "The goal is to predict the price of the diamond using some features describing the diamond quality for ex, color, cut etc."
      ]
    },
    {
      "cell_type": "code",
      "execution_count": null,
      "metadata": {
        "id": "aZY6huQ7cEqb"
      },
      "outputs": [],
      "source": [
        "### This a new change that I have made in branch shishir\n",
        "\n",
        "import pandas as pd\n",
        "import numpy as np\n",
        "import matplotlib.pyplot as plt\n",
        "import seaborn as sns\n",
        "import os\n",
        "import sys"
      ]
    },
    {
      "cell_type": "code",
      "execution_count": null,
      "metadata": {
        "id": "eVP4otOQccsZ"
      },
      "outputs": [],
      "source": [
        "## Load data\n",
        "data = pd.read_excel(\"qa-0702.xls\", sheet_name='Raw Data', skiprows=[0,1])"
      ]
    },
    {
      "cell_type": "code",
      "execution_count": null,
      "metadata": {
        "colab": {
          "base_uri": "https://localhost:8080/",
          "height": 187
        },
        "id": "QoRWSzXYdsjE",
        "outputId": "e1c93d34-c36b-410e-cecf-996a28915947"
      },
      "outputs": [
        {
          "name": "stderr",
          "output_type": "stream",
          "text": [
            "/usr/local/lib/python3.6/dist-packages/pandas/core/frame.py:4133: SettingWithCopyWarning: \n",
            "A value is trying to be set on a copy of a slice from a DataFrame\n",
            "\n",
            "See the caveats in the documentation: https://pandas.pydata.org/pandas-docs/stable/user_guide/indexing.html#returning-a-view-versus-a-copy\n",
            "  errors=errors,\n"
          ]
        },
        {
          "data": {
            "text/html": [
              "<div>\n",
              "<style scoped>\n",
              "    .dataframe tbody tr th:only-of-type {\n",
              "        vertical-align: middle;\n",
              "    }\n",
              "\n",
              "    .dataframe tbody tr th {\n",
              "        vertical-align: top;\n",
              "    }\n",
              "\n",
              "    .dataframe thead th {\n",
              "        text-align: right;\n",
              "    }\n",
              "</style>\n",
              "<table border=\"1\" class=\"dataframe\">\n",
              "  <thead>\n",
              "    <tr style=\"text-align: right;\">\n",
              "      <th></th>\n",
              "      <th>ID</th>\n",
              "      <th>Carat_Weight</th>\n",
              "      <th>Cut</th>\n",
              "      <th>Color</th>\n",
              "      <th>Clarity</th>\n",
              "      <th>Polish</th>\n",
              "      <th>Symmetry</th>\n",
              "      <th>Report</th>\n",
              "      <th>Price</th>\n",
              "    </tr>\n",
              "  </thead>\n",
              "  <tbody>\n",
              "    <tr>\n",
              "      <th>5999</th>\n",
              "      <td>6000</td>\n",
              "      <td>2.19</td>\n",
              "      <td>Ideal</td>\n",
              "      <td>E</td>\n",
              "      <td>VS1</td>\n",
              "      <td>EX</td>\n",
              "      <td>EX</td>\n",
              "      <td>GIA</td>\n",
              "      <td>30507.0</td>\n",
              "    </tr>\n",
              "  </tbody>\n",
              "</table>\n",
              "</div>"
            ],
            "text/plain": [
              "        ID  Carat_Weight    Cut Color Clarity Polish Symmetry Report    Price\n",
              "5999  6000          2.19  Ideal     E     VS1     EX       EX    GIA  30507.0"
            ]
          },
          "execution_count": 70,
          "metadata": {
            "tags": []
          },
          "output_type": "execute_result"
        }
      ],
      "source": [
        "## Filter data with for which price is available\n",
        "df = data.iloc[0:6000,:]\n",
        "df_pred = data.iloc[6000:,:]\n",
        "# Rename Carat weight\n",
        "df.rename(columns={'Carat Weight': 'Carat_Weight'}, inplace=True)\n",
        "df_pred.rename(columns={'Carat Weight': 'Carat_Weight'}, inplace=True)\n",
        "df.tail(1)"
      ]
    },
    {
      "cell_type": "code",
      "execution_count": null,
      "metadata": {
        "colab": {
          "base_uri": "https://localhost:8080/",
          "height": 311
        },
        "id": "2B-daBdKg7Z3",
        "outputId": "a076a803-997b-4cd5-bcd0-c7b6a717346c"
      },
      "outputs": [
        {
          "name": "stdout",
          "output_type": "stream",
          "text": [
            "<class 'pandas.core.frame.DataFrame'>\n",
            "RangeIndex: 6000 entries, 0 to 5999\n",
            "Data columns (total 9 columns):\n",
            " #   Column        Non-Null Count  Dtype  \n",
            "---  ------        --------------  -----  \n",
            " 0   ID            6000 non-null   int64  \n",
            " 1   Carat_Weight  6000 non-null   float64\n",
            " 2   Cut           6000 non-null   object \n",
            " 3   Color         6000 non-null   object \n",
            " 4   Clarity       6000 non-null   object \n",
            " 5   Polish        6000 non-null   object \n",
            " 6   Symmetry      6000 non-null   object \n",
            " 7   Report        6000 non-null   object \n",
            " 8   Price         6000 non-null   float64\n",
            "dtypes: float64(2), int64(1), object(6)\n",
            "memory usage: 422.0+ KB\n",
            "None\n"
          ]
        }
      ],
      "source": [
        "# data Summary \n",
        "nrows, ncols = df.shape\n",
        "print(df.info())"
      ]
    },
    {
      "cell_type": "markdown",
      "metadata": {
        "id": "9nz-Ly4kUar6"
      },
      "source": [
        "# EDA "
      ]
    },
    {
      "cell_type": "markdown",
      "metadata": {
        "id": "Ni45J5kMUjqc"
      },
      "source": [
        "**Numerical data** "
      ]
    },
    {
      "cell_type": "code",
      "execution_count": null,
      "metadata": {
        "colab": {
          "base_uri": "https://localhost:8080/",
          "height": 351
        },
        "id": "YerAlzc4Q3Bb",
        "outputId": "6af632a5-1299-4250-ebc0-a268ce95298f"
      },
      "outputs": [
        {
          "data": {
            "text/plain": [
              "Text(0, 0.5, 'Price')"
            ]
          },
          "execution_count": 61,
          "metadata": {
            "tags": []
          },
          "output_type": "execute_result"
        },
        {
          "data": {
            "image/png": "[encoded data removed]",
            "text/plain": [
              "<Figure size 1080x360 with 2 Axes>"
            ]
          },
          "metadata": {
            "needs_background": "light",
            "tags": []
          },
          "output_type": "display_data"
        }
      ],
      "source": [
        "# Scatter plot of Price vs Weight\n",
        "fig, (ax1, ax2) = plt.subplots(nrows=1, ncols=2, figsize=(15,5))\n",
        "ax1.scatter(np.log(df.Carat_Weight), np.log(df.Price))\n",
        "ax1.set_title(\"log price vs log carat weight\")\n",
        "ax1.set_xlabel(\"Log Weight\")\n",
        "ax1.set_ylabel(\"Log Price\")\n",
        "ax2.scatter(df.Carat_Weight,df.Price)\n",
        "ax2.set_title(\"price vs carat weight\")\n",
        "ax2.set_xlabel(\"Weight\")\n",
        "ax2.set_ylabel(\"Price\")"
      ]
    },
    {
      "cell_type": "markdown",
      "metadata": {
        "id": "dHUg-LWQVAQ_"
      },
      "source": [
        "**Categorical Data**"
      ]
    },
    {
      "cell_type": "code",
      "execution_count": null,
      "metadata": {
        "colab": {
          "base_uri": "https://localhost:8080/",
          "height": 621
        },
        "id": "jys3BjWQVk-T",
        "outputId": "a10ea2cc-3494-4759-e7de-852efaa32bbc"
      },
      "outputs": [
        {
          "data": {
            "image/png": "[encoded data removed]",
            "text/plain": [
              "<Figure size 936x720 with 6 Axes>"
            ]
          },
          "metadata": {
            "needs_background": "light",
            "tags": []
          },
          "output_type": "display_data"
        }
      ],
      "source": [
        "## frequncy distrbution of Categories\n",
        "fig = plt.figure(figsize=(13,10))\n",
        "# Cut \n",
        "ax1 = fig.add_subplot(2,3,1)\n",
        "sns.countplot(df.Cut, ax=ax1)\n",
        "ax1.set_title(\"Cut\")\n",
        "# Color\n",
        "ax2 = fig.add_subplot(2,3,2)\n",
        "sns.countplot(df.Color, ax=ax2)\n",
        "ax2.set_title(\"Color\")\n",
        "# Clarity\n",
        "ax3 = fig.add_subplot(2,3,3)\n",
        "sns.countplot(df.Clarity, ax=ax3)\n",
        "ax3.set_title(\"Clarity\")\n",
        "# Polish \n",
        "ax4 = fig.add_subplot(2,3,4)\n",
        "sns.countplot(df.Polish, ax=ax4)\n",
        "ax4.set_title(\"Polish\")\n",
        "# Symmetry\n",
        "ax5 = fig.add_subplot(2,3,5)\n",
        "sns.countplot(df.Symmetry, ax=ax5)\n",
        "ax5.set_title(\"Symmetry\")\n",
        "# Report\n",
        "ax6 = fig.add_subplot(2,3,6)\n",
        "sns.countplot(df.Report, ax=ax6)\n",
        "ax6.set_title(\"Report\")\n",
        "\n",
        "plt.show()"
      ]
    },
    {
      "cell_type": "code",
      "execution_count": null,
      "metadata": {
        "colab": {
          "base_uri": "https://localhost:8080/",
          "height": 621
        },
        "id": "vyirOYYob3u1",
        "outputId": "1d2fdc66-fa8f-493d-e604-54834921011c"
      },
      "outputs": [
        {
          "data": {
            "image/png": "[encoded data removed]",
            "text/plain": [
              "<Figure size 936x720 with 6 Axes>"
            ]
          },
          "metadata": {
            "needs_background": "light",
            "tags": []
          },
          "output_type": "display_data"
        }
      ],
      "source": [
        "## Replatioship between all the categorical variables and Price\n",
        "# Cut\n",
        "fig2 = plt.figure(figsize=(13,10))\n",
        "ax7 = fig2.add_subplot(2,3,1)\n",
        "sns.boxplot(data=df, x='Cut', y = 'Price', ax=ax7)\n",
        "ax7.set_title(\"Cut\")\n",
        "# Color\n",
        "ax8 = fig2.add_subplot(2,3,2)\n",
        "sns.boxplot(data=df, x='Color', y = 'Price', ax=ax8)\n",
        "ax8.set_title(\"Color\")\n",
        "# Clarity\n",
        "ax9 = fig2.add_subplot(2,3,3)\n",
        "sns.boxplot(data=df, x='Clarity', y = 'Price', ax=ax9)\n",
        "ax9.set_title(\"Clarity\")\n",
        "# Polish \n",
        "ax0 = fig2.add_subplot(2,3,4)\n",
        "sns.boxplot(data=df, x='Polish', y = 'Price', ax=ax0)\n",
        "ax0.set_title(\"Polish\")\n",
        "# Symmetry\n",
        "ax11 = fig2.add_subplot(2,3,5)\n",
        "sns.boxplot(data=df, x='Symmetry', y = 'Price', ax=ax11)\n",
        "ax11.set_title(\"Symmetry\")\n",
        "# Report\n",
        "ax12 = fig2.add_subplot(2,3,6)\n",
        "sns.boxplot(data=df, x='Report', y = 'Price', ax=ax12)\n",
        "ax12.set_title(\"Report\")\n",
        "plt.show()"
      ]
    },
    {
      "cell_type": "markdown",
      "metadata": {
        "id": "Dsi6ff7SrTSt"
      },
      "source": [
        "**Split the dataset in Train and Test**"
      ]
    },
    {
      "cell_type": "code",
      "execution_count": null,
      "metadata": {
        "id": "zd9kW4JarOqF"
      },
      "outputs": [],
      "source": [
        "## split the data in training and test set\n",
        "X = df.drop(columns=['ID','Price'], axis=1)\n",
        "Y = df.loc[:, 'Price']\n",
        "from sklearn.model_selection import train_test_split\n",
        "X_train, X_test, y_train, y_test = train_test_split(X, Y)"
      ]
    },
    {
      "cell_type": "code",
      "execution_count": null,
      "metadata": {
        "colab": {
          "base_uri": "https://localhost:8080/",
          "height": 69
        },
        "id": "rTLA2NUfUhdd",
        "outputId": "20998ffa-fa00-4126-c465-c917f98e1dd5"
      },
      "outputs": [
        {
          "data": {
            "text/plain": [
              "Index(['Carat_Weight', 'Cut', 'Color', 'Clarity', 'Polish', 'Symmetry',\n",
              "       'Report'],\n",
              "      dtype='object')"
            ]
          },
          "execution_count": 114,
          "metadata": {
            "tags": []
          },
          "output_type": "execute_result"
        }
      ],
      "source": [
        "X_train.columns"
      ]
    },
    {
      "cell_type": "markdown",
      "metadata": {
        "id": "qb_A2sT4sEmI"
      },
      "source": [
        "**Create Custom Transformers for Data Preprocessing**"
      ]
    },
    {
      "cell_type": "code",
      "execution_count": null,
      "metadata": {
        "id": "CLvdMpWOsHWH"
      },
      "outputs": [],
      "source": [
        "ordinal_feature = ['Cut', 'Color', 'Clarity','Polish','Symmetry']\n",
        "Num_feature = ['Carat_Weight']\n",
        "## Feature Engineering steps on X\n",
        "# - Convert the Carat_Weight to log \n",
        "# - Ordinal encoding for the ordinal categorical variables\n",
        "# - Convert Report column to number \n",
        "# - Update 'Polish' and 'Symmetry' columns based on Report column\n",
        "\n",
        "## Create the transformers needed to be applied on the features \n",
        "from sklearn.preprocessing import FunctionTransformer, OrdinalEncoder\n",
        "from sklearn.base import TransformerMixin, clone\n",
        "from functools import reduce\n",
        "##1)  Create custom transformer to extract the columns ##################################\n",
        "class ColumnExtractor(TransformerMixin):\n",
        "    def __init__(self, cols):\n",
        "        self.cols = cols\n",
        "    def fit(self, X, y=None):\n",
        "        # stateless transformer\n",
        "        return self\n",
        "    def transform(self, X):\n",
        "        # assumes X is a DataFrame\n",
        "        Xcols = X[self.cols]\n",
        "        return Xcols\n",
        "##2)  Custom Transformer to create log for numerical variable ########################\n",
        "class LogTransformer(TransformerMixin):\n",
        "    def fit(self, X, y=None):\n",
        "        # stateless transformer\n",
        "        return self\n",
        "    def transform(self, X):\n",
        "        # assumes X is a DataFrame\n",
        "        Xlog = np.log(X).round(3)\n",
        "        return Xlog\n",
        "# 3) Ordinal variables encoding using Tranformer - OrdinalEncoder ###########################\n",
        "# Create list of categories based on ranking\n",
        "cut = ['Fair','Good','Very Good','Ideal','Signature-Ideal']\n",
        "Color = ['I','H','G','F','E','D']\n",
        "Clarity = ['SI1', 'VS2','VS1','VVS2','VVS1','IF','FL']\n",
        "Pol = ['G', 'VG', 'EX', 'ID']\n",
        "Sym = ['G', 'VG', 'EX', 'ID']\n",
        "All_cat = [cut, Color, Clarity, Pol, Sym]\n",
        "# create object for ordinal encoder\n",
        "# 4) Customer transformer for the report column update\n",
        "class Reportcolumn(TransformerMixin):\n",
        "    def fit(self, X, y=None):\n",
        "        # stateless transformer\n",
        "        return self\n",
        "    def transform(self, X):\n",
        "        # assumes X is a DataFrame\n",
        "        Xupdate = pd.DataFrame(np.where(X=='GIA', 1, 0.75),index=X.index, columns=X.columns)\n",
        "        return Xupdate\n",
        "# 4) Transformer to unionize the transformed featured\n",
        "class DFFeatunion(TransformerMixin):\n",
        "    # FeatureUnion\n",
        "    def __init__(self, transformer_list):\n",
        "        self.transformer_list = transformer_list\n",
        "    def fit(self, X, y=None):\n",
        "        for (name, t) in self.transformer_list:\n",
        "            t.fit(X, y)\n",
        "        return self\n",
        "    def transform(self, X):\n",
        "        # assumes X is a DataFrame\n",
        "        Xts = [t.transform(X) for _, t in self.transformer_list]\n",
        "        Xunion = reduce(lambda X1, X2: pd.merge(X1, X2, left_index=True, right_index=True), Xts)\n",
        "        return Xunion\n",
        "# 5) ordinal Encoder - Return dataframe\n",
        "class DFordinalencoder(TransformerMixin):\n",
        "# return a dataframe\n",
        "    def __init__(self, category_list):\n",
        "        self.category_list = category_list\n",
        "    def fit(self, X, y=None):\n",
        "        self.oe = OrdinalEncoder(self.category_list)     \n",
        "        self.oe.fit(X)  \n",
        "        return self\n",
        "    def transform(self, X):\n",
        "        # assumes X is a DataFrame\n",
        "        X_oe = self.oe.transform(X)\n",
        "        X_df = pd.DataFrame(X_oe, index=X.index, columns=X.columns)\n",
        "        return X_df\n",
        "\n",
        "# 6) Feature Union for Dataframe\n",
        "\n",
        "class DFConvert(TransformerMixin):\n",
        "    def __init__(self, cols, ind):\n",
        "        self.cols = cols\n",
        "    def fit(self, X, y=None):\n",
        "        return self\n",
        "    def transform(self, X):\n",
        "        # assumes X is a DataFrame\n",
        "        X_df = pd.DataFrame(X, index=ind, columns=cols)\n",
        "        return X_df\n",
        "\n",
        "\n",
        "\n",
        "class DataFrameFeatureUnion(TransformerMixin):\n",
        "    def __init__(self, list_of_transformers):\n",
        "        self.list_of_transformers = list_of_transformers       \n",
        "    def transform(self, X, **transformparamn):               \n",
        "        concatted = pd.concat([transformer.transform(X)for transformer in self.fitted_transformers_], axis=1).copy()\n",
        "        return concatted\n",
        "    def fit(self, X, y=None, **fitparams):  \n",
        "      self.fitted_transformers_ = []\n",
        "      for name, transformer in self.list_of_transformers:\n",
        "          fitted_trans = transformer.fit(X, y=None, **fitparams)\n",
        "          self.fitted_transformers_.append(fitted_trans)\n",
        "      return self\n"
      ]
    },
    {
      "cell_type": "markdown",
      "metadata": {
        "id": "gE--OI2LYh8e"
      },
      "source": [
        "**Preprocessing Pipeline**"
      ]
    },
    {
      "cell_type": "code",
      "execution_count": null,
      "metadata": {
        "id": "LID5Oarp6A4D"
      },
      "outputs": [],
      "source": [
        "from sklearn.pipeline import Pipeline, FeatureUnion\n",
        "from sklearn.preprocessing import OrdinalEncoder as os\n",
        "## DFfreatureUnion is merging all the columns\n",
        "# Column etxracter - extract the given columns for the pipeline\n",
        "pipeline = Pipeline([                    \n",
        "    ('features', DataFrameFeatureUnion([\n",
        "    ('numerics', Pipeline([\n",
        "            ('extract', ColumnExtractor(Num_feature)),\n",
        "            ('log', LogTransformer())\n",
        "        ])),\n",
        "    ('ordinal', Pipeline([\n",
        "            ('extract', ColumnExtractor(ordinal_feature)),\n",
        "            ('log', DFordinalencoder(All_cat))\n",
        "        ])),\n",
        "    ('report', Pipeline([\n",
        "            ('extract', ColumnExtractor(['Report'])),\n",
        "            ('reportencode', Reportcolumn())]))\n",
        "    ]))\n",
        "])"
      ]
    },
    {
      "cell_type": "code",
      "execution_count": null,
      "metadata": {
        "id": "kw8Y-TEzkT-r"
      },
      "outputs": [],
      "source": [
        "############################### Fit and Transform the data using pipline\n",
        "pipeline.fit(X_train)\n",
        "X_train2 = pipeline.transform(X_train)"
      ]
    },
    {
      "cell_type": "code",
      "execution_count": null,
      "metadata": {
        "colab": {
          "base_uri": "https://localhost:8080/",
          "height": 112
        },
        "id": "AFJbnX-_xlTh",
        "outputId": "10f0990a-1c54-4412-b498-4e07953308c8"
      },
      "outputs": [
        {
          "data": {
            "text/html": [
              "<div>\n",
              "<style scoped>\n",
              "    .dataframe tbody tr th:only-of-type {\n",
              "        vertical-align: middle;\n",
              "    }\n",
              "\n",
              "    .dataframe tbody tr th {\n",
              "        vertical-align: top;\n",
              "    }\n",
              "\n",
              "    .dataframe thead th {\n",
              "        text-align: right;\n",
              "    }\n",
              "</style>\n",
              "<table border=\"1\" class=\"dataframe\">\n",
              "  <thead>\n",
              "    <tr style=\"text-align: right;\">\n",
              "      <th></th>\n",
              "      <th>Carat_Weight</th>\n",
              "      <th>Cut</th>\n",
              "      <th>Color</th>\n",
              "      <th>Clarity</th>\n",
              "      <th>Polish</th>\n",
              "      <th>Symmetry</th>\n",
              "      <th>Report</th>\n",
              "    </tr>\n",
              "  </thead>\n",
              "  <tbody>\n",
              "    <tr>\n",
              "      <th>2846</th>\n",
              "      <td>0.875</td>\n",
              "      <td>2.0</td>\n",
              "      <td>5.0</td>\n",
              "      <td>4.0</td>\n",
              "      <td>0.0</td>\n",
              "      <td>0.0</td>\n",
              "      <td>1.0</td>\n",
              "    </tr>\n",
              "    <tr>\n",
              "      <th>5926</th>\n",
              "      <td>0.010</td>\n",
              "      <td>3.0</td>\n",
              "      <td>2.0</td>\n",
              "      <td>2.0</td>\n",
              "      <td>2.0</td>\n",
              "      <td>2.0</td>\n",
              "      <td>1.0</td>\n",
              "    </tr>\n",
              "  </tbody>\n",
              "</table>\n",
              "</div>"
            ],
            "text/plain": [
              "      Carat_Weight  Cut  Color  Clarity  Polish  Symmetry  Report\n",
              "2846         0.875  2.0    5.0      4.0     0.0       0.0     1.0\n",
              "5926         0.010  3.0    2.0      2.0     2.0       2.0     1.0"
            ]
          },
          "execution_count": 163,
          "metadata": {
            "tags": []
          },
          "output_type": "execute_result"
        }
      ],
      "source": [
        "X_train2.head(2)"
      ]
    },
    {
      "cell_type": "code",
      "execution_count": null,
      "metadata": {
        "colab": {
          "base_uri": "https://localhost:8080/",
          "height": 34
        },
        "id": "u4_e-9-7wLXs",
        "outputId": "01568139-bc3c-4941-c29b-793eacbef361"
      },
      "outputs": [
        {
          "data": {
            "text/plain": [
              "(4500, 7)"
            ]
          },
          "execution_count": 160,
          "metadata": {
            "tags": []
          },
          "output_type": "execute_result"
        }
      ],
      "source": [
        "X_train2.shape"
      ]
    },
    {
      "cell_type": "markdown",
      "metadata": {
        "id": "Chi7ROrgs42R"
      },
      "source": [
        " Update the Polish and Syymtery Columns based on Report and drop 'report'"
      ]
    },
    {
      "cell_type": "code",
      "execution_count": null,
      "metadata": {
        "id": "UGxAgiJxtj2y"
      },
      "outputs": [],
      "source": [
        "X_train2['Polish'] = X_train2['Polish'] * X_train2['Report']\n",
        "X_train2['Symmetry'] = X_train2['Symmetry'] * X_train2['Report']"
      ]
    },
    {
      "cell_type": "code",
      "execution_count": null,
      "metadata": {
        "id": "Ze4t0g-4lc1G"
      },
      "outputs": [],
      "source": [
        "# Drop Report\n",
        "X_train2.drop(columns=['Report'], axis=1, inplace=True)"
      ]
    },
    {
      "cell_type": "code",
      "execution_count": null,
      "metadata": {
        "colab": {
          "base_uri": "https://localhost:8080/",
          "height": 362
        },
        "id": "wDlXNPIAtpxn",
        "outputId": "833aab75-9559-41b4-f33d-7a375ab197bf"
      },
      "outputs": [
        {
          "data": {
            "text/html": [
              "<div>\n",
              "<style scoped>\n",
              "    .dataframe tbody tr th:only-of-type {\n",
              "        vertical-align: middle;\n",
              "    }\n",
              "\n",
              "    .dataframe tbody tr th {\n",
              "        vertical-align: top;\n",
              "    }\n",
              "\n",
              "    .dataframe thead th {\n",
              "        text-align: right;\n",
              "    }\n",
              "</style>\n",
              "<table border=\"1\" class=\"dataframe\">\n",
              "  <thead>\n",
              "    <tr style=\"text-align: right;\">\n",
              "      <th></th>\n",
              "      <th>Carat_Weight</th>\n",
              "      <th>Cut</th>\n",
              "      <th>Color</th>\n",
              "      <th>Clarity</th>\n",
              "      <th>Polish</th>\n",
              "      <th>Symmetry</th>\n",
              "    </tr>\n",
              "  </thead>\n",
              "  <tbody>\n",
              "    <tr>\n",
              "      <th>2846</th>\n",
              "      <td>0.875</td>\n",
              "      <td>2.0</td>\n",
              "      <td>5.0</td>\n",
              "      <td>4.0</td>\n",
              "      <td>0.00</td>\n",
              "      <td>0.00</td>\n",
              "    </tr>\n",
              "    <tr>\n",
              "      <th>5926</th>\n",
              "      <td>0.010</td>\n",
              "      <td>3.0</td>\n",
              "      <td>2.0</td>\n",
              "      <td>2.0</td>\n",
              "      <td>2.00</td>\n",
              "      <td>2.00</td>\n",
              "    </tr>\n",
              "    <tr>\n",
              "      <th>2796</th>\n",
              "      <td>-0.236</td>\n",
              "      <td>3.0</td>\n",
              "      <td>4.0</td>\n",
              "      <td>0.0</td>\n",
              "      <td>2.00</td>\n",
              "      <td>2.00</td>\n",
              "    </tr>\n",
              "    <tr>\n",
              "      <th>1195</th>\n",
              "      <td>0.191</td>\n",
              "      <td>4.0</td>\n",
              "      <td>4.0</td>\n",
              "      <td>3.0</td>\n",
              "      <td>2.25</td>\n",
              "      <td>2.25</td>\n",
              "    </tr>\n",
              "    <tr>\n",
              "      <th>1586</th>\n",
              "      <td>0.199</td>\n",
              "      <td>3.0</td>\n",
              "      <td>2.0</td>\n",
              "      <td>2.0</td>\n",
              "      <td>2.25</td>\n",
              "      <td>2.25</td>\n",
              "    </tr>\n",
              "    <tr>\n",
              "      <th>2290</th>\n",
              "      <td>0.775</td>\n",
              "      <td>2.0</td>\n",
              "      <td>0.0</td>\n",
              "      <td>4.0</td>\n",
              "      <td>2.00</td>\n",
              "      <td>1.00</td>\n",
              "    </tr>\n",
              "    <tr>\n",
              "      <th>2377</th>\n",
              "      <td>0.020</td>\n",
              "      <td>1.0</td>\n",
              "      <td>1.0</td>\n",
              "      <td>0.0</td>\n",
              "      <td>1.00</td>\n",
              "      <td>1.00</td>\n",
              "    </tr>\n",
              "    <tr>\n",
              "      <th>2381</th>\n",
              "      <td>0.068</td>\n",
              "      <td>4.0</td>\n",
              "      <td>2.0</td>\n",
              "      <td>0.0</td>\n",
              "      <td>2.25</td>\n",
              "      <td>2.25</td>\n",
              "    </tr>\n",
              "    <tr>\n",
              "      <th>4242</th>\n",
              "      <td>0.438</td>\n",
              "      <td>3.0</td>\n",
              "      <td>3.0</td>\n",
              "      <td>3.0</td>\n",
              "      <td>2.00</td>\n",
              "      <td>2.00</td>\n",
              "    </tr>\n",
              "    <tr>\n",
              "      <th>4997</th>\n",
              "      <td>-0.105</td>\n",
              "      <td>3.0</td>\n",
              "      <td>1.0</td>\n",
              "      <td>2.0</td>\n",
              "      <td>1.00</td>\n",
              "      <td>1.00</td>\n",
              "    </tr>\n",
              "  </tbody>\n",
              "</table>\n",
              "</div>"
            ],
            "text/plain": [
              "      Carat_Weight  Cut  Color  Clarity  Polish  Symmetry\n",
              "2846         0.875  2.0    5.0      4.0    0.00      0.00\n",
              "5926         0.010  3.0    2.0      2.0    2.00      2.00\n",
              "2796        -0.236  3.0    4.0      0.0    2.00      2.00\n",
              "1195         0.191  4.0    4.0      3.0    2.25      2.25\n",
              "1586         0.199  3.0    2.0      2.0    2.25      2.25\n",
              "2290         0.775  2.0    0.0      4.0    2.00      1.00\n",
              "2377         0.020  1.0    1.0      0.0    1.00      1.00\n",
              "2381         0.068  4.0    2.0      0.0    2.25      2.25\n",
              "4242         0.438  3.0    3.0      3.0    2.00      2.00\n",
              "4997        -0.105  3.0    1.0      2.0    1.00      1.00"
            ]
          },
          "execution_count": 166,
          "metadata": {
            "tags": []
          },
          "output_type": "execute_result"
        }
      ],
      "source": [
        "X_train2.head(10)"
      ]
    },
    {
      "cell_type": "markdown",
      "metadata": {
        "id": "Df8J4TlGWuVy"
      },
      "source": [
        "**Covert Y_train (Price) Log**"
      ]
    },
    {
      "cell_type": "code",
      "execution_count": null,
      "metadata": {
        "colab": {
          "base_uri": "https://localhost:8080/",
          "height": 103
        },
        "id": "vqaTtfZ8Wq_5",
        "outputId": "ad94fcbf-2887-4596-d4a8-507b29f1735a"
      },
      "outputs": [
        {
          "data": {
            "text/plain": [
              "2846    11.064\n",
              "5926     8.890\n",
              "2796     7.988\n",
              "1195     9.578\n",
              "Name: Price, dtype: float64"
            ]
          },
          "execution_count": 167,
          "metadata": {
            "tags": []
          },
          "output_type": "execute_result"
        }
      ],
      "source": [
        "y_train2 = np.log(y_train).round(3)\n",
        "y_train2.head(4)"
      ]
    },
    {
      "cell_type": "code",
      "execution_count": null,
      "metadata": {
        "colab": {
          "base_uri": "https://localhost:8080/",
          "height": 34
        },
        "id": "17nf9fOOwXKu",
        "outputId": "f12b64e5-add8-4dc1-df4a-a3a038618119"
      },
      "outputs": [
        {
          "data": {
            "text/plain": [
              "(4500,)"
            ]
          },
          "execution_count": 169,
          "metadata": {
            "tags": []
          },
          "output_type": "execute_result"
        }
      ],
      "source": [
        "y_train2.shape"
      ]
    },
    {
      "cell_type": "markdown",
      "metadata": {
        "id": "Z7cLa_hMukOh"
      },
      "source": [
        "# Train Decision Tree, Linear Regression and xgBoost models"
      ]
    },
    {
      "cell_type": "code",
      "execution_count": null,
      "metadata": {
        "colab": {
          "base_uri": "https://localhost:8080/",
          "height": 175
        },
        "id": "xkKRfZqPiuQI",
        "outputId": "429dc62f-b8d9-4894-9903-a0b9598d84a9"
      },
      "outputs": [
        {
          "name": "stdout",
          "output_type": "stream",
          "text": [
            "[21:33:52] WARNING: /workspace/src/objective/regression_obj.cu:152: reg:linear is now deprecated in favor of reg:squarederror.\n"
          ]
        },
        {
          "data": {
            "text/plain": [
              "XGBRegressor(base_score=0.5, booster='gbtree', colsample_bylevel=1,\n",
              "             colsample_bynode=1, colsample_bytree=1, gamma=0,\n",
              "             importance_type='gain', learning_rate=0.1, max_delta_step=0,\n",
              "             max_depth=3, min_child_weight=1, missing=None, n_estimators=100,\n",
              "             n_jobs=1, nthread=None, objective='reg:linear', random_state=0,\n",
              "             reg_alpha=0, reg_lambda=1, scale_pos_weight=1, seed=None,\n",
              "             silent=None, subsample=1, verbosity=1)"
            ]
          },
          "execution_count": 170,
          "metadata": {
            "tags": []
          },
          "output_type": "execute_result"
        }
      ],
      "source": [
        "## Train on decision tree \n",
        "from sklearn.tree import DecisionTreeRegressor\n",
        "reg_tree = DecisionTreeRegressor(random_state=0)\n",
        "reg_tree.fit(X_train2,y_train2)\n",
        "\n",
        "## Train on Linear Regression \n",
        "from sklearn.linear_model import LinearRegression\n",
        "reg_linear = LinearRegression()\n",
        "reg_linear.fit(X_train2,y_train2)\n",
        "\n",
        "## Train on xgBost\n",
        "from xgboost import XGBRegressor\n",
        "reg_xg = XGBRegressor()\n",
        "reg_xg.fit(X_train2,y_train2)"
      ]
    },
    {
      "cell_type": "markdown",
      "metadata": {
        "id": "n5hvJs_Q5TEA"
      },
      "source": [
        "# Check Accuracy of all the models by making prediction on the Test set"
      ]
    },
    {
      "cell_type": "code",
      "execution_count": null,
      "metadata": {
        "id": "2uhtQtb-5iUS"
      },
      "outputs": [],
      "source": [
        "# Preprocess X_test\n",
        "X_test2 = pipeline.transform(X_test)"
      ]
    },
    {
      "cell_type": "code",
      "execution_count": null,
      "metadata": {
        "id": "8itMhSN85sr_"
      },
      "outputs": [],
      "source": [
        "X_test2['Polish'] = X_test2['Polish'] * X_test2['Report']\n",
        "X_test2['Symmetry'] = X_test2['Symmetry'] * X_test2['Report']"
      ]
    },
    {
      "cell_type": "code",
      "execution_count": null,
      "metadata": {
        "colab": {
          "base_uri": "https://localhost:8080/",
          "height": 206
        },
        "id": "Dz71MnrA54VI",
        "outputId": "bf0a035f-0bb1-4d3b-f067-b742083d119f"
      },
      "outputs": [
        {
          "data": {
            "text/html": [
              "<div>\n",
              "<style scoped>\n",
              "    .dataframe tbody tr th:only-of-type {\n",
              "        vertical-align: middle;\n",
              "    }\n",
              "\n",
              "    .dataframe tbody tr th {\n",
              "        vertical-align: top;\n",
              "    }\n",
              "\n",
              "    .dataframe thead th {\n",
              "        text-align: right;\n",
              "    }\n",
              "</style>\n",
              "<table border=\"1\" class=\"dataframe\">\n",
              "  <thead>\n",
              "    <tr style=\"text-align: right;\">\n",
              "      <th></th>\n",
              "      <th>Carat_Weight</th>\n",
              "      <th>Cut</th>\n",
              "      <th>Color</th>\n",
              "      <th>Clarity</th>\n",
              "      <th>Polish</th>\n",
              "      <th>Symmetry</th>\n",
              "    </tr>\n",
              "  </thead>\n",
              "  <tbody>\n",
              "    <tr>\n",
              "      <th>4448</th>\n",
              "      <td>0.131</td>\n",
              "      <td>2.0</td>\n",
              "      <td>3.0</td>\n",
              "      <td>0.0</td>\n",
              "      <td>1.0</td>\n",
              "      <td>1.0</td>\n",
              "    </tr>\n",
              "    <tr>\n",
              "      <th>3168</th>\n",
              "      <td>0.030</td>\n",
              "      <td>3.0</td>\n",
              "      <td>3.0</td>\n",
              "      <td>0.0</td>\n",
              "      <td>1.0</td>\n",
              "      <td>1.0</td>\n",
              "    </tr>\n",
              "    <tr>\n",
              "      <th>5022</th>\n",
              "      <td>0.058</td>\n",
              "      <td>4.0</td>\n",
              "      <td>2.0</td>\n",
              "      <td>2.0</td>\n",
              "      <td>2.0</td>\n",
              "      <td>2.0</td>\n",
              "    </tr>\n",
              "    <tr>\n",
              "      <th>4691</th>\n",
              "      <td>0.049</td>\n",
              "      <td>3.0</td>\n",
              "      <td>1.0</td>\n",
              "      <td>1.0</td>\n",
              "      <td>1.0</td>\n",
              "      <td>1.0</td>\n",
              "    </tr>\n",
              "    <tr>\n",
              "      <th>596</th>\n",
              "      <td>0.113</td>\n",
              "      <td>3.0</td>\n",
              "      <td>2.0</td>\n",
              "      <td>2.0</td>\n",
              "      <td>2.0</td>\n",
              "      <td>2.0</td>\n",
              "    </tr>\n",
              "  </tbody>\n",
              "</table>\n",
              "</div>"
            ],
            "text/plain": [
              "      Carat_Weight  Cut  Color  Clarity  Polish  Symmetry\n",
              "4448         0.131  2.0    3.0      0.0     1.0       1.0\n",
              "3168         0.030  3.0    3.0      0.0     1.0       1.0\n",
              "5022         0.058  4.0    2.0      2.0     2.0       2.0\n",
              "4691         0.049  3.0    1.0      1.0     1.0       1.0\n",
              "596          0.113  3.0    2.0      2.0     2.0       2.0"
            ]
          },
          "execution_count": 174,
          "metadata": {
            "tags": []
          },
          "output_type": "execute_result"
        }
      ],
      "source": [
        "X_test2.drop(columns=['Report'], axis=1, inplace=True)\n",
        "X_test2.head()"
      ]
    },
    {
      "cell_type": "markdown",
      "metadata": {
        "id": "oMoBY2Du6Gmh"
      },
      "source": [
        "**Make Prediction on X Test and Calculate the Accuracy**"
      ]
    },
    {
      "cell_type": "code",
      "execution_count": null,
      "metadata": {
        "colab": {
          "base_uri": "https://localhost:8080/",
          "height": 155
        },
        "id": "hH9lLBdBls4p",
        "outputId": "18ed1de8-d2a6-45ed-df87-1fee8f9eb8d6"
      },
      "outputs": [
        {
          "name": "stdout",
          "output_type": "stream",
          "text": [
            "Decision Tree Model-> RMSE : 1641.5908\n",
            "Decision Tree Model-> R Square: 0.9723\n",
            "\n",
            "Linear Regression Model-> RMSE : 2023.6071\n",
            "Linear Regression Model->R Square: 0.9578\n",
            "\n",
            "xgBoost Model-> RMSE : 1175.2531\n",
            "xgBoost Model-> R Square: 0.9858\n"
          ]
        }
      ],
      "source": [
        "########################## Prediction ####################################\n",
        "#1) Decison Tree regressor\n",
        "y_predit1= reg_tree.predict(X_test2).round(decimals=3)\n",
        "## Exponentiate Y_predict\n",
        "y_pred_price1 = np.exp(y_predit1).round(decimals=3)\n",
        "\n",
        "#2) Linear regression \n",
        "y_predit2= reg_linear.predict(X_test2).round(decimals=3)\n",
        "## Exponentiate Y_predict\n",
        "y_pred_price2 = np.exp(y_predit2).round(decimals=3)\n",
        "\n",
        "#3) xgboost regressor\n",
        "y_predit3= reg_xg.predict(X_test2).round(decimals=3)\n",
        "## Exponentiate Y_predict\n",
        "y_pred_price3 = np.exp(y_predit3).round(decimals=3)\n",
        "\n",
        "################################## Accuracy Calculation ######################\n",
        "from sklearn.metrics import mean_squared_error, r2_score\n",
        "#1) Decison Tree regressor\n",
        "print(f\"Decision Tree Model-> RMSE : {np.sqrt(mean_squared_error(y_test,y_pred_price1)).round(4)}\")\n",
        "print(f\"Decision Tree Model-> R Square: {r2_score(y_test,y_pred_price1).round(4)}\")\n",
        "\n",
        "#1) Linear Regression\n",
        "print(f\"\\nLinear Regression Model-> RMSE : {np.sqrt(mean_squared_error(y_test,y_pred_price2)).round(4)}\")\n",
        "print(f\"Linear Regression Model->R Square: {r2_score(y_test,y_pred_price2).round(4)}\")\n",
        "\n",
        "#1) xgBoost\n",
        "print(f\"\\nxgBoost Model-> RMSE : {np.sqrt(mean_squared_error(y_test,y_pred_price3)).round(4)}\")\n",
        "print(f\"xgBoost Model-> R Square: {r2_score(y_test,y_pred_price3).round(4)}\")\n"
      ]
    },
    {
      "cell_type": "markdown",
      "metadata": {
        "id": "EOQf-oAkeFD9"
      },
      "source": [
        "# Based on th model performance - using xgBoost for final Prediction"
      ]
    },
    {
      "cell_type": "code",
      "execution_count": null,
      "metadata": {
        "colab": {
          "base_uri": "https://localhost:8080/",
          "height": 206
        },
        "id": "OFav3XT78g6F",
        "outputId": "68b1a4eb-9251-4412-e365-ae2480ae3b61"
      },
      "outputs": [
        {
          "data": {
            "text/html": [
              "<div>\n",
              "<style scoped>\n",
              "    .dataframe tbody tr th:only-of-type {\n",
              "        vertical-align: middle;\n",
              "    }\n",
              "\n",
              "    .dataframe tbody tr th {\n",
              "        vertical-align: top;\n",
              "    }\n",
              "\n",
              "    .dataframe thead th {\n",
              "        text-align: right;\n",
              "    }\n",
              "</style>\n",
              "<table border=\"1\" class=\"dataframe\">\n",
              "  <thead>\n",
              "    <tr style=\"text-align: right;\">\n",
              "      <th></th>\n",
              "      <th>ID</th>\n",
              "      <th>Carat_Weight</th>\n",
              "      <th>Cut</th>\n",
              "      <th>Color</th>\n",
              "      <th>Clarity</th>\n",
              "      <th>Polish</th>\n",
              "      <th>Symmetry</th>\n",
              "      <th>Report</th>\n",
              "      <th>Price</th>\n",
              "    </tr>\n",
              "  </thead>\n",
              "  <tbody>\n",
              "    <tr>\n",
              "      <th>6000</th>\n",
              "      <td>6001</td>\n",
              "      <td>2.18</td>\n",
              "      <td>Very Good</td>\n",
              "      <td>I</td>\n",
              "      <td>SI1</td>\n",
              "      <td>EX</td>\n",
              "      <td>EX</td>\n",
              "      <td>GIA</td>\n",
              "      <td>NaN</td>\n",
              "    </tr>\n",
              "    <tr>\n",
              "      <th>6001</th>\n",
              "      <td>6002</td>\n",
              "      <td>2.32</td>\n",
              "      <td>Ideal</td>\n",
              "      <td>E</td>\n",
              "      <td>VVS2</td>\n",
              "      <td>VG</td>\n",
              "      <td>EX</td>\n",
              "      <td>GIA</td>\n",
              "      <td>NaN</td>\n",
              "    </tr>\n",
              "    <tr>\n",
              "      <th>6002</th>\n",
              "      <td>6003</td>\n",
              "      <td>0.77</td>\n",
              "      <td>Good</td>\n",
              "      <td>F</td>\n",
              "      <td>VS1</td>\n",
              "      <td>VG</td>\n",
              "      <td>G</td>\n",
              "      <td>GIA</td>\n",
              "      <td>NaN</td>\n",
              "    </tr>\n",
              "    <tr>\n",
              "      <th>6003</th>\n",
              "      <td>6004</td>\n",
              "      <td>2.01</td>\n",
              "      <td>Very Good</td>\n",
              "      <td>G</td>\n",
              "      <td>VS2</td>\n",
              "      <td>EX</td>\n",
              "      <td>EX</td>\n",
              "      <td>GIA</td>\n",
              "      <td>NaN</td>\n",
              "    </tr>\n",
              "    <tr>\n",
              "      <th>6004</th>\n",
              "      <td>6005</td>\n",
              "      <td>1.39</td>\n",
              "      <td>Very Good</td>\n",
              "      <td>E</td>\n",
              "      <td>VVS2</td>\n",
              "      <td>VG</td>\n",
              "      <td>EX</td>\n",
              "      <td>GIA</td>\n",
              "      <td>NaN</td>\n",
              "    </tr>\n",
              "  </tbody>\n",
              "</table>\n",
              "</div>"
            ],
            "text/plain": [
              "        ID  Carat_Weight        Cut Color Clarity Polish Symmetry Report  Price\n",
              "6000  6001          2.18  Very Good     I     SI1     EX       EX    GIA    NaN\n",
              "6001  6002          2.32      Ideal     E    VVS2     VG       EX    GIA    NaN\n",
              "6002  6003          0.77       Good     F     VS1     VG        G    GIA    NaN\n",
              "6003  6004          2.01  Very Good     G     VS2     EX       EX    GIA    NaN\n",
              "6004  6005          1.39  Very Good     E    VVS2     VG       EX    GIA    NaN"
            ]
          },
          "execution_count": 200,
          "metadata": {
            "tags": []
          },
          "output_type": "execute_result"
        }
      ],
      "source": [
        "df_pred.head()"
      ]
    },
    {
      "cell_type": "code",
      "execution_count": null,
      "metadata": {
        "id": "jgaXyaJZ8oeL"
      },
      "outputs": [],
      "source": [
        "X_prediction = df_pred.drop(columns=['ID','Price'])"
      ]
    },
    {
      "cell_type": "code",
      "execution_count": null,
      "metadata": {
        "id": "EpWO61gs83hC"
      },
      "outputs": [],
      "source": [
        "## Traform X_prediction using pipepline and preprocessing steps"
      ]
    },
    {
      "cell_type": "code",
      "execution_count": null,
      "metadata": {
        "id": "lXtwev1L9CeR"
      },
      "outputs": [],
      "source": [
        "X_prediction2 = pipeline.transform(X_prediction)"
      ]
    },
    {
      "cell_type": "code",
      "execution_count": null,
      "metadata": {
        "id": "xrTKHGnr9y5Y"
      },
      "outputs": [],
      "source": [
        "X_prediction2['Polish'] = X_prediction2['Polish'] * X_prediction2['Report']\n",
        "X_prediction2['Symmetry'] = X_prediction2['Symmetry'] * X_prediction2['Report']"
      ]
    },
    {
      "cell_type": "code",
      "execution_count": null,
      "metadata": {
        "colab": {
          "base_uri": "https://localhost:8080/",
          "height": 206
        },
        "id": "NLLLGBFM9-VN",
        "outputId": "aaf119e0-6297-4fa2-91e2-f85b043158d6"
      },
      "outputs": [
        {
          "data": {
            "text/html": [
              "<div>\n",
              "<style scoped>\n",
              "    .dataframe tbody tr th:only-of-type {\n",
              "        vertical-align: middle;\n",
              "    }\n",
              "\n",
              "    .dataframe tbody tr th {\n",
              "        vertical-align: top;\n",
              "    }\n",
              "\n",
              "    .dataframe thead th {\n",
              "        text-align: right;\n",
              "    }\n",
              "</style>\n",
              "<table border=\"1\" class=\"dataframe\">\n",
              "  <thead>\n",
              "    <tr style=\"text-align: right;\">\n",
              "      <th></th>\n",
              "      <th>Carat_Weight</th>\n",
              "      <th>Cut</th>\n",
              "      <th>Color</th>\n",
              "      <th>Clarity</th>\n",
              "      <th>Polish</th>\n",
              "      <th>Symmetry</th>\n",
              "    </tr>\n",
              "  </thead>\n",
              "  <tbody>\n",
              "    <tr>\n",
              "      <th>6000</th>\n",
              "      <td>0.779</td>\n",
              "      <td>2.0</td>\n",
              "      <td>0.0</td>\n",
              "      <td>0.0</td>\n",
              "      <td>2.0</td>\n",
              "      <td>2.0</td>\n",
              "    </tr>\n",
              "    <tr>\n",
              "      <th>6001</th>\n",
              "      <td>0.842</td>\n",
              "      <td>3.0</td>\n",
              "      <td>4.0</td>\n",
              "      <td>3.0</td>\n",
              "      <td>1.0</td>\n",
              "      <td>2.0</td>\n",
              "    </tr>\n",
              "    <tr>\n",
              "      <th>6002</th>\n",
              "      <td>-0.261</td>\n",
              "      <td>1.0</td>\n",
              "      <td>3.0</td>\n",
              "      <td>2.0</td>\n",
              "      <td>1.0</td>\n",
              "      <td>0.0</td>\n",
              "    </tr>\n",
              "    <tr>\n",
              "      <th>6003</th>\n",
              "      <td>0.698</td>\n",
              "      <td>2.0</td>\n",
              "      <td>2.0</td>\n",
              "      <td>1.0</td>\n",
              "      <td>2.0</td>\n",
              "      <td>2.0</td>\n",
              "    </tr>\n",
              "    <tr>\n",
              "      <th>6004</th>\n",
              "      <td>0.329</td>\n",
              "      <td>2.0</td>\n",
              "      <td>4.0</td>\n",
              "      <td>3.0</td>\n",
              "      <td>1.0</td>\n",
              "      <td>2.0</td>\n",
              "    </tr>\n",
              "  </tbody>\n",
              "</table>\n",
              "</div>"
            ],
            "text/plain": [
              "      Carat_Weight  Cut  Color  Clarity  Polish  Symmetry\n",
              "6000         0.779  2.0    0.0      0.0     2.0       2.0\n",
              "6001         0.842  3.0    4.0      3.0     1.0       2.0\n",
              "6002        -0.261  1.0    3.0      2.0     1.0       0.0\n",
              "6003         0.698  2.0    2.0      1.0     2.0       2.0\n",
              "6004         0.329  2.0    4.0      3.0     1.0       2.0"
            ]
          },
          "execution_count": 204,
          "metadata": {
            "tags": []
          },
          "output_type": "execute_result"
        }
      ],
      "source": [
        "X_prediction2.drop(columns=['Report'], axis=1, inplace=True)\n",
        "X_prediction2.head()"
      ]
    },
    {
      "cell_type": "code",
      "execution_count": null,
      "metadata": {
        "id": "I4vfLZXB9Qdd"
      },
      "outputs": [],
      "source": [
        "## Fit in the xgboost model for predictions\n",
        "y_final= reg_xg.predict(X_prediction2).round(decimals=3)\n",
        "## Exponentiate Y_predict\n",
        "y_Final_Price =  np.exp(y_final).round(decimals=3)"
      ]
    },
    {
      "cell_type": "code",
      "execution_count": null,
      "metadata": {
        "colab": {
          "base_uri": "https://localhost:8080/",
          "height": 51
        },
        "id": "buyQ4wPg-Kk1",
        "outputId": "f8df3405-52f1-4242-de71-c79eaaf2d6f8"
      },
      "outputs": [
        {
          "data": {
            "text/plain": [
              "array([17292.02 , 46397.453,  3105.718, ...,  9181.997,  7654.124,\n",
              "        2849.788], dtype=float32)"
            ]
          },
          "execution_count": 207,
          "metadata": {
            "tags": []
          },
          "output_type": "execute_result"
        }
      ],
      "source": [
        "y_Final_Price"
      ]
    },
    {
      "cell_type": "code",
      "execution_count": null,
      "metadata": {
        "colab": {
          "base_uri": "https://localhost:8080/",
          "height": 34
        },
        "id": "NmP38Z3U_4ac",
        "outputId": "52fcfda9-68a0-4fad-b50a-0e3aef4d14b7"
      },
      "outputs": [
        {
          "data": {
            "text/plain": [
              "(3142, 6)"
            ]
          },
          "execution_count": 208,
          "metadata": {
            "tags": []
          },
          "output_type": "execute_result"
        }
      ],
      "source": [
        "X_prediction2.shape"
      ]
    },
    {
      "cell_type": "code",
      "execution_count": null,
      "metadata": {
        "id": "ucqQsJwZ-amh"
      },
      "outputs": [],
      "source": [
        "## Update the price in dataframe an save in csv\n",
        "df_pred['Price'] = y_Final_Price.round(2)"
      ]
    },
    {
      "cell_type": "code",
      "execution_count": null,
      "metadata": {
        "colab": {
          "base_uri": "https://localhost:8080/",
          "height": 206
        },
        "id": "5ukYjo8T_nJR",
        "outputId": "8082a94a-d050-4d51-a2f8-aabb7d646851"
      },
      "outputs": [
        {
          "data": {
            "text/html": [
              "<div>\n",
              "<style scoped>\n",
              "    .dataframe tbody tr th:only-of-type {\n",
              "        vertical-align: middle;\n",
              "    }\n",
              "\n",
              "    .dataframe tbody tr th {\n",
              "        vertical-align: top;\n",
              "    }\n",
              "\n",
              "    .dataframe thead th {\n",
              "        text-align: right;\n",
              "    }\n",
              "</style>\n",
              "<table border=\"1\" class=\"dataframe\">\n",
              "  <thead>\n",
              "    <tr style=\"text-align: right;\">\n",
              "      <th></th>\n",
              "      <th>ID</th>\n",
              "      <th>Carat_Weight</th>\n",
              "      <th>Cut</th>\n",
              "      <th>Color</th>\n",
              "      <th>Clarity</th>\n",
              "      <th>Polish</th>\n",
              "      <th>Symmetry</th>\n",
              "      <th>Report</th>\n",
              "      <th>Price</th>\n",
              "    </tr>\n",
              "  </thead>\n",
              "  <tbody>\n",
              "    <tr>\n",
              "      <th>6000</th>\n",
              "      <td>6001</td>\n",
              "      <td>2.18</td>\n",
              "      <td>Very Good</td>\n",
              "      <td>I</td>\n",
              "      <td>SI1</td>\n",
              "      <td>EX</td>\n",
              "      <td>EX</td>\n",
              "      <td>GIA</td>\n",
              "      <td>17292.019531</td>\n",
              "    </tr>\n",
              "    <tr>\n",
              "      <th>6001</th>\n",
              "      <td>6002</td>\n",
              "      <td>2.32</td>\n",
              "      <td>Ideal</td>\n",
              "      <td>E</td>\n",
              "      <td>VVS2</td>\n",
              "      <td>VG</td>\n",
              "      <td>EX</td>\n",
              "      <td>GIA</td>\n",
              "      <td>46397.460938</td>\n",
              "    </tr>\n",
              "    <tr>\n",
              "      <th>6002</th>\n",
              "      <td>6003</td>\n",
              "      <td>0.77</td>\n",
              "      <td>Good</td>\n",
              "      <td>F</td>\n",
              "      <td>VS1</td>\n",
              "      <td>VG</td>\n",
              "      <td>G</td>\n",
              "      <td>GIA</td>\n",
              "      <td>3105.719971</td>\n",
              "    </tr>\n",
              "    <tr>\n",
              "      <th>6003</th>\n",
              "      <td>6004</td>\n",
              "      <td>2.01</td>\n",
              "      <td>Very Good</td>\n",
              "      <td>G</td>\n",
              "      <td>VS2</td>\n",
              "      <td>EX</td>\n",
              "      <td>EX</td>\n",
              "      <td>GIA</td>\n",
              "      <td>24661.529297</td>\n",
              "    </tr>\n",
              "    <tr>\n",
              "      <th>6004</th>\n",
              "      <td>6005</td>\n",
              "      <td>1.39</td>\n",
              "      <td>Very Good</td>\n",
              "      <td>E</td>\n",
              "      <td>VVS2</td>\n",
              "      <td>VG</td>\n",
              "      <td>EX</td>\n",
              "      <td>GIA</td>\n",
              "      <td>14072.809570</td>\n",
              "    </tr>\n",
              "  </tbody>\n",
              "</table>\n",
              "</div>"
            ],
            "text/plain": [
              "        ID  Carat_Weight        Cut Color  ... Polish Symmetry Report         Price\n",
              "6000  6001          2.18  Very Good     I  ...     EX       EX    GIA  17292.019531\n",
              "6001  6002          2.32      Ideal     E  ...     VG       EX    GIA  46397.460938\n",
              "6002  6003          0.77       Good     F  ...     VG        G    GIA   3105.719971\n",
              "6003  6004          2.01  Very Good     G  ...     EX       EX    GIA  24661.529297\n",
              "6004  6005          1.39  Very Good     E  ...     VG       EX    GIA  14072.809570\n",
              "\n",
              "[5 rows x 9 columns]"
            ]
          },
          "execution_count": 214,
          "metadata": {
            "tags": []
          },
          "output_type": "execute_result"
        }
      ],
      "source": [
        "df_pred.head()"
      ]
    }
  ],
  "metadata": {
    "colab": {
      "collapsed_sections": [],
      "name": "Sarah Diamond case_update2.ipynb",
      "provenance": [],
      "toc_visible": true
    },
    "kernelspec": {
      "display_name": "Python 3",
      "name": "python3"
    }
  },
  "nbformat": 4,
  "nbformat_minor": 0
}
